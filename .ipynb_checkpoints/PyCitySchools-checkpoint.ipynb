{
 "cells": [
  {
   "cell_type": "code",
   "execution_count": 6,
   "id": "59fe6ceb",
   "metadata": {},
   "outputs": [],
   "source": [
    "import pandas as pd"
   ]
  },
  {
   "cell_type": "code",
   "execution_count": 7,
   "id": "b07022a7",
   "metadata": {},
   "outputs": [],
   "source": [
    "# File to Load (Remember to Change These)\n",
    "school_data_to_load = \"Resources/schools_complete.csv\"\n",
    "student_data_to_load = \"Resources/students_complete.csv\""
   ]
  },
  {
   "cell_type": "code",
   "execution_count": 8,
   "id": "63cc30d4",
   "metadata": {},
   "outputs": [],
   "source": [
    "# Read School and Student Data File and store into Pandas DataFrames\n",
    "school_data = pd.read_csv(school_data_to_load)\n",
    "student_data = pd.read_csv(student_data_to_load)"
   ]
  },
  {
   "cell_type": "code",
   "execution_count": 9,
   "id": "82f226b8",
   "metadata": {},
   "outputs": [],
   "source": [
    "# Combine the data into a single dataset.  \n",
    "school_data_complete = pd.merge(student_data, school_data, how=\"left\", on=[\"school_name\", \"school_name\"])"
   ]
  },
  {
   "cell_type": "code",
   "execution_count": 10,
   "id": "d270f43e",
   "metadata": {},
   "outputs": [],
   "source": [
    "# District Summary\n",
    "\n",
    "# Calculate the total number of schools\n",
    "# Calculate the total number of students\n",
    "# Calculate the total budget\n",
    "# Calculate the average math score \n",
    "# Calculate the average reading score\n",
    "# Calculate the percentage of students with a passing math score (70 or greater)\n",
    "# Calculate the percentage of students with a passing reading score (70 or greater)\n",
    "# Calculate the percentage of students who passed math and reading (% Overall Passing)\n",
    "# Create a dataframe to hold the above results\n",
    "# Optional: give the displayed data cleaner formatting\n",
    "\n",
    "\n"
   ]
  },
  {
   "cell_type": "code",
   "execution_count": 11,
   "id": "9112fcb2",
   "metadata": {},
   "outputs": [],
   "source": [
    "# School Summary\n",
    "# Create an overview table that summarizes key metrics about each school, including:\n",
    "\n",
    "# School Name\n",
    "# School Type\n",
    "# Total Students\n",
    "# Total School Budget\n",
    "# Per Student Budget\n",
    "# Average Math Score\n",
    "# Average Reading Score\n",
    "# % Passing Math\n",
    "# % Passing Reading\n",
    "# % Overall Passing (The percentage of students that passed math and reading.)\n",
    "\n",
    "# Create a dataframe to hold the above results\n",
    "\n",
    "\n"
   ]
  },
  {
   "cell_type": "code",
   "execution_count": 12,
   "id": "306f5814",
   "metadata": {},
   "outputs": [],
   "source": [
    "# Top Performing Schools (By % Overall Passing)\n",
    "# Sort and display the top five performing schools by % overall passing.\n",
    "\n",
    "\n"
   ]
  },
  {
   "cell_type": "code",
   "execution_count": 13,
   "id": "e9d251b1",
   "metadata": {},
   "outputs": [],
   "source": [
    "# Bottom Performing Schools (By % Overall Passing)\n",
    "# Sort and display the five worst-performing schools by % overall passing.\n"
   ]
  },
  {
   "cell_type": "code",
   "execution_count": 14,
   "id": "2e89d390",
   "metadata": {},
   "outputs": [],
   "source": [
    "# Math Scores by Grade\n",
    "# Create a table that lists the average Reading Score for students of each grade level (9th, 10th, 11th, 12th) at each school.\n",
    "\n",
    "# Create a pandas series for each grade. Hint: use a conditional statement.\n",
    "# Group each series by school\n",
    "# Combine the series into a dataframe\n",
    "# Optional: give the displayed data cleaner formatting\n",
    "\n"
   ]
  },
  {
   "cell_type": "code",
   "execution_count": 15,
   "id": "1087b1df",
   "metadata": {},
   "outputs": [],
   "source": [
    "# Reading Score by Grade\n",
    "# Perform the same operations as above for reading scores\n"
   ]
  },
  {
   "cell_type": "code",
   "execution_count": 16,
   "id": "14f5f3ab",
   "metadata": {},
   "outputs": [],
   "source": [
    "# Scores by School Spending\n",
    "# Create a table that breaks down school performances based on average Spending Ranges (Per Student). Use 4 reasonable bins to group school spending. Include in the table each of the following:\n",
    "#     Average Math Score\n",
    "#     Average Reading Score\n",
    "#     % Passing Math\n",
    "#     % Passing Reading\n",
    "#     Overall Passing Rate (Average of the above two)\n"
   ]
  },
  {
   "cell_type": "code",
   "execution_count": 17,
   "id": "4a6d3182",
   "metadata": {},
   "outputs": [],
   "source": [
    "# Scores by School Size\n",
    "# Perform the same operations as above, based on school size.\n"
   ]
  },
  {
   "cell_type": "code",
   "execution_count": 18,
   "id": "081b9014",
   "metadata": {},
   "outputs": [],
   "source": [
    "# Scores by School Type\n",
    "# Perform the same operations as above, based on school type\n"
   ]
  }
 ],
 "metadata": {
  "kernelspec": {
   "display_name": "Python 3 (ipykernel)",
   "language": "python",
   "name": "python3"
  },
  "language_info": {
   "codemirror_mode": {
    "name": "ipython",
    "version": 3
   },
   "file_extension": ".py",
   "mimetype": "text/x-python",
   "name": "python",
   "nbconvert_exporter": "python",
   "pygments_lexer": "ipython3",
   "version": "3.9.7"
  }
 },
 "nbformat": 4,
 "nbformat_minor": 5
}
